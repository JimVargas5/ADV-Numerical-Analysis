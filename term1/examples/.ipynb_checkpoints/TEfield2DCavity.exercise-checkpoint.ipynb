{
 "cells": [
  {
   "cell_type": "markdown",
   "metadata": {},
   "source": [
    "# TE field in a lossy cavity"
   ]
  },
  {
   "cell_type": "markdown",
   "metadata": {},
   "source": [
    "\n",
    "### Task:\n",
    "\n",
    "Consider an infinite tube, of unit square cross section $\\Omega$, enclosing two conducting materials, and enclosed by a perfect conductor. The symmetry direction is $z$. Suppose a current pulse centered at $x=1/2, y=3/4$ radiates giving a time-harmonic source $i\\omega f$, with  \n",
    "$$\n",
    "f = \n",
    "\\begin{pmatrix}\n",
    "\\exp(-100( (x-1/2)^2 + (y-3/4)^2)) \\\\ \n",
    "0\n",
    "\\end{pmatrix}\n",
    "$$\n",
    "of frequency \n",
    "$$\n",
    "\\omega = 30.\n",
    "$$\n",
    "Your task is to simulate the resulting TE field. The medium inside the tube consists of two conducting layers, so that \n",
    "the boundary value problem you need to solve is as follows:\n",
    "$$\n",
    "\\DeclareMathOperator{\\curl}{curl}\n",
    "\\curl\\curl u - (\\omega^2 + is) u = f \\quad \\text{on } \\Omega = \\text{unit square}\n",
    "$$\n",
    "with the boundary condition \n",
    "$$\n",
    "u \\cdot t = 0 \\quad \\text{on } \\partial\\Omega, \n",
    "$$\n",
    "where\n",
    "$$\n",
    "s = \\left\\{\n",
    "\\begin{aligned}\n",
    "& 1 && \\text{ if } y > 0.5 \\\\\n",
    "& 200 && \\text{ otherwise}.\n",
    "\\end{aligned}\n",
    "\\right.\n",
    "$$"
   ]
  },
  {
   "cell_type": "code",
   "execution_count": 1,
   "metadata": {},
   "outputs": [],
   "source": [
    "import ngsolve as ng\n",
    "from netgen.geom2d import unit_square\n",
    "from ngsolve import curl, dx"
   ]
  }
 ],
 "metadata": {
  "kernelspec": {
   "display_name": "Python 3",
   "language": "python",
   "name": "python3"
  },
  "language_info": {
   "codemirror_mode": {
    "name": "ipython",
    "version": 3
   },
   "file_extension": ".py",
   "mimetype": "text/x-python",
   "name": "python",
   "nbconvert_exporter": "python",
   "pygments_lexer": "ipython3",
   "version": "3.7.0"
  },
  "name": "MaxwellCavity.ipynb"
 },
 "nbformat": 4,
 "nbformat_minor": 2
}
