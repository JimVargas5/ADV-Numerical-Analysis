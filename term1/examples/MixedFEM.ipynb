{
 "cells": [
  {
   "cell_type": "markdown",
   "metadata": {},
   "source": [
    "# A mixed FEM for Poisson equation"
   ]
  },
  {
   "cell_type": "code",
   "execution_count": 1,
   "metadata": {},
   "outputs": [],
   "source": [
    "usewebgui = True\n",
    "# If you want to use webgui, ensure you have it installed following\n",
    "#    https://ngsolve.org/docu/latest/i-tutorials/index.html \n",
    "# Otherwise, set usewebgui to False above. \n",
    "\n",
    "import ngsolve as ng\n",
    "from netgen.geom2d import SplineGeometry    \n",
    "from ngsolve import dx, ds, div, x, y, exp, Integrate, sqrt, GridFunction\n",
    "\n",
    "if usewebgui:\n",
    "    import ngsolve.webgui\n",
    "    from ngsolve.webgui import Draw\n",
    "else:    \n",
    "    import netgen.gui\n",
    "    from ngsolve import Draw"
   ]
  },
  {
   "cell_type": "markdown",
   "metadata": {},
   "source": [
    "First, let us create a domain with two subdomains. We shall use it to illustrate some of the properties of the H(div) space. "
   ]
  },
  {
   "cell_type": "code",
   "execution_count": 2,
   "metadata": {},
   "outputs": [
    {
     "name": "stdout",
     "output_type": "stream",
     "text": [
      "1 3\n"
     ]
    }
   ],
   "source": [
    "geo = SplineGeometry()\n",
    "\n",
    "#    3-------2------5\n",
    "#    |       |      |\n",
    "#    |       |      |\n",
    "#    |       |      |\n",
    "#    |       |      |\n",
    "#    0-------1------4\n",
    "#    \n",
    "\n",
    "\n",
    "#       0        1        2         3        4      5\n",
    "pts = [(0, 0), (1/2, 0), (1/2, 1), (0, 1), (1, 0), (1, 1)]\n",
    "pn = [geo.AppendPoint(*p) for p in pts]\n",
    "\n",
    "#     from, to, name,  left, right\n",
    "lns = [(0,  1,  'bot', 1,    0), \n",
    "       (1,  2,  'mid', 1,    2), \n",
    "       (2,  3,  'top', 1,    0),\n",
    "       (3,  0,  'lft', 1,    0),\n",
    "       (1,  4,  'bot', 2,    0),\n",
    "       (4,  5,  'rgt', 2,    0),\n",
    "       (5,  2,  'top', 2,    0)\n",
    "      ]\n",
    "\n",
    "for p1, p2, bc, left, right in lns:\n",
    "    geo.Append([\"line\", pn[p1], pn[p2]], \n",
    "               bc=bc, leftdomain=left, rightdomain=right)\n",
    "\n",
    "geo.SetMaterial(1, \"lftdom\")\n",
    "geo.SetMaterial(2, \"rgtdom\")\n",
    "a=(1,3)\n",
    "print(*a)"
   ]
  },
  {
   "cell_type": "code",
   "execution_count": 3,
   "metadata": {},
   "outputs": [
    {
     "data": {
      "application/vnd.jupyter.widget-view+json": {
       "model_id": "17d78bc7b7fe4724b63641fede90a11c",
       "version_major": 2,
       "version_minor": 0
      },
      "text/plain": [
       "NGSWebGuiWidget(value={'ngsolve_version': '6.2.2008', 'mesh_dim': 2, 'order2d': 1, 'order3d': 1, 'draw_vol': N…"
      ]
     },
     "metadata": {},
     "output_type": "display_data"
    },
    {
     "data": {
      "text/plain": []
     },
     "execution_count": 3,
     "metadata": {},
     "output_type": "execute_result"
    }
   ],
   "source": [
    "mesh = ng.Mesh(geo.GenerateMesh(maxh=0.3))\n",
    "Draw(mesh)"
   ]
  },
  {
   "cell_type": "markdown",
   "metadata": {},
   "source": [
    "## Raviart-Thomas space"
   ]
  },
  {
   "cell_type": "markdown",
   "metadata": {},
   "source": [
    "The lowest order Raviart-Thomas space can be generated in NGSolve by this:"
   ]
  },
  {
   "cell_type": "code",
   "execution_count": 4,
   "metadata": {},
   "outputs": [],
   "source": [
    "R = ng.HDiv(mesh, order=0, RT=True)"
   ]
  },
  {
   "cell_type": "markdown",
   "metadata": {},
   "source": [
    "Note its dimension:"
   ]
  },
  {
   "cell_type": "code",
   "execution_count": 5,
   "metadata": {},
   "outputs": [
    {
     "data": {
      "text/plain": [
       "43"
      ]
     },
     "execution_count": 5,
     "metadata": {},
     "output_type": "execute_result"
    }
   ],
   "source": [
    "R.ndof"
   ]
  },
  {
   "cell_type": "markdown",
   "metadata": {},
   "source": [
    "In particular, note how this number equals the number of mesh edges. "
   ]
  },
  {
   "cell_type": "code",
   "execution_count": 6,
   "metadata": {},
   "outputs": [
    {
     "data": {
      "text/plain": [
       "43"
      ]
     },
     "execution_count": 6,
     "metadata": {},
     "output_type": "execute_result"
    }
   ],
   "source": [
    "mesh.nedge"
   ]
  },
  {
   "cell_type": "markdown",
   "metadata": {},
   "source": [
    "## Interpolation into the Raviart-Thomas space"
   ]
  },
  {
   "cell_type": "markdown",
   "metadata": {},
   "source": [
    "Let's make up a vector field which is discontinuous across the middle interface between `lftdom` and `rgtdom`. "
   ]
  },
  {
   "cell_type": "code",
   "execution_count": 9,
   "metadata": {},
   "outputs": [],
   "source": [
    "v = mesh.MaterialCF({'lftdom': (x, y), 'rgtdom': (1-x, 1-y)})"
   ]
  },
  {
   "cell_type": "markdown",
   "metadata": {},
   "source": [
    "Note that although the tangential component of `v` jumps across the interface, its normal component remains continuous."
   ]
  },
  {
   "cell_type": "code",
   "execution_count": 10,
   "metadata": {},
   "outputs": [
    {
     "data": {
      "application/vnd.jupyter.widget-view+json": {
       "model_id": "de864e97a8494bb8bdaf4aa18fca0730",
       "version_major": 2,
       "version_minor": 0
      },
      "text/plain": [
       "NGSWebGuiWidget(value={'ngsolve_version': '6.2.2008', 'mesh_dim': 2, 'order2d': 2, 'order3d': 2, 'draw_vol': F…"
      ]
     },
     "metadata": {},
     "output_type": "display_data"
    },
    {
     "data": {
      "text/plain": []
     },
     "execution_count": 10,
     "metadata": {},
     "output_type": "execute_result"
    }
   ],
   "source": [
    "Draw(v, mesh, 'v')"
   ]
  },
  {
   "cell_type": "markdown",
   "metadata": {},
   "source": [
    "Note:\n",
    "- In NGSolve's webgui, a vector field can be displayed using arrows if you follow the `Vectors -> show` check box.  Selecting from the `eval` control box, you can overlay the vector plot with individual components or the norm of the vector field. \n",
    "\n",
    "- In Netgen's GUI, the procedure is different: to display a vector field, check `Draw Surface Vectors` box in the `Visual` menu. To overlay a scalar contour plot, select the components using the `Scalar function` option."
   ]
  },
  {
   "cell_type": "markdown",
   "metadata": {},
   "source": [
    "The interpolation is performed using the `Set` method, which you have already seen as a method of an `H1` object. The interpolation process is different for different spaces, but they are all accessed by the `Set` method in NGSolve. The `Set` below uses H(div) interpolation."
   ]
  },
  {
   "cell_type": "code",
   "execution_count": 11,
   "metadata": {},
   "outputs": [
    {
     "data": {
      "application/vnd.jupyter.widget-view+json": {
       "model_id": "61275b7f341d49c8969365e086cef50c",
       "version_major": 2,
       "version_minor": 0
      },
      "text/plain": [
       "NGSWebGuiWidget(value={'ngsolve_version': '6.2.2008', 'mesh_dim': 2, 'order2d': 2, 'order3d': 2, 'draw_vol': F…"
      ]
     },
     "metadata": {},
     "output_type": "display_data"
    },
    {
     "data": {
      "text/plain": []
     },
     "execution_count": 11,
     "metadata": {},
     "output_type": "execute_result"
    }
   ],
   "source": [
    "vh = ng.GridFunction(R)\n",
    "vh.Set(v)     # Compute interpolant of v\n",
    "Draw(vh)"
   ]
  },
  {
   "cell_type": "markdown",
   "metadata": {},
   "source": [
    "When the discontinuous field `v` with continuous normal component is interpolated to `vh`, we find that the interpolation process is (machine) exact, i.e., it only generates  (machine) zero error."
   ]
  },
  {
   "cell_type": "code",
   "execution_count": 12,
   "metadata": {},
   "outputs": [
    {
     "data": {
      "text/plain": [
       "1.3319759440264468e-16"
      ]
     },
     "execution_count": 12,
     "metadata": {},
     "output_type": "execute_result"
    }
   ],
   "source": [
    "sqrt(Integrate((vh-v)**2, mesh))   # Error in RT interpolation"
   ]
  },
  {
   "cell_type": "markdown",
   "metadata": {},
   "source": [
    "If you interpolate using two copies of `H1` to make up vector fields (available as `VectorH1` in NGSolve), you do not get (machine) zero error."
   ]
  },
  {
   "cell_type": "code",
   "execution_count": 13,
   "metadata": {},
   "outputs": [
    {
     "data": {
      "text/plain": [
       "0.11687981282741002"
      ]
     },
     "execution_count": 13,
     "metadata": {},
     "output_type": "execute_result"
    }
   ],
   "source": [
    "V = ng.VectorH1(mesh, order=1)\n",
    "vvh = ng.GridFunction(V)\n",
    "vvh.Set(v)\n",
    "sqrt(Integrate((vvh-v)**2, mesh))"
   ]
  },
  {
   "cell_type": "markdown",
   "metadata": {},
   "source": [
    "Indeed, it is impossible for the `H1` interpolation to be exact since its result `vvh` must be a continuous vector field, which cannot equal the discontinuous field `v`."
   ]
  },
  {
   "cell_type": "markdown",
   "metadata": {},
   "source": [
    "## Visualize Raviart-Thomas shape functions"
   ]
  },
  {
   "cell_type": "code",
   "execution_count": 14,
   "metadata": {},
   "outputs": [
    {
     "data": {
      "application/vnd.jupyter.widget-view+json": {
       "model_id": "b5b1f45015f6431ea22d8a669e3d7ca2",
       "version_major": 2,
       "version_minor": 0
      },
      "text/plain": [
       "NGSWebGuiWidget(value={'ngsolve_version': '6.2.2008', 'mesh_dim': 2, 'order2d': 2, 'order3d': 2, 'draw_vol': F…"
      ]
     },
     "metadata": {},
     "output_type": "display_data"
    },
    {
     "data": {
      "text/plain": []
     },
     "execution_count": 14,
     "metadata": {},
     "output_type": "execute_result"
    }
   ],
   "source": [
    "shape = ng.GridFunction(R, name='shape')\n",
    "shape.vec[:] = 0\n",
    "shape.vec[19] = 1\n",
    "Draw(shape)"
   ]
  },
  {
   "cell_type": "markdown",
   "metadata": {},
   "source": [
    "You can check that the normal component of any shape function that you elect to plot  is continuous. Their tangential components need not be continuous. "
   ]
  },
  {
   "cell_type": "markdown",
   "metadata": {},
   "source": [
    "## Products of finite element spaces"
   ]
  },
  {
   "cell_type": "markdown",
   "metadata": {},
   "source": [
    "Here is how you define product spaces."
   ]
  },
  {
   "cell_type": "code",
   "execution_count": 15,
   "metadata": {},
   "outputs": [],
   "source": [
    "R = ng.HDiv(mesh, order=0, RT=True)\n",
    "W = ng.L2(mesh, order=0)\n",
    "\n",
    "RW = ng.FESpace([R, W])"
   ]
  },
  {
   "cell_type": "markdown",
   "metadata": {},
   "source": [
    "Note that the space `W` is just the space of piecewise constants on the mesh. Therefore its dimension equals  the number of mesh elements."
   ]
  },
  {
   "cell_type": "code",
   "execution_count": 16,
   "metadata": {},
   "outputs": [
    {
     "data": {
      "text/plain": [
       "24"
      ]
     },
     "execution_count": 16,
     "metadata": {},
     "output_type": "execute_result"
    }
   ],
   "source": [
    "W.ndof"
   ]
  },
  {
   "cell_type": "code",
   "execution_count": 17,
   "metadata": {},
   "outputs": [
    {
     "data": {
      "text/plain": [
       "24"
      ]
     },
     "execution_count": 17,
     "metadata": {},
     "output_type": "execute_result"
    }
   ],
   "source": [
    "mesh.GetNE(ng.VOL)"
   ]
  },
  {
   "cell_type": "markdown",
   "metadata": {},
   "source": [
    "## Assembly in two ways"
   ]
  },
  {
   "cell_type": "markdown",
   "metadata": {},
   "source": [
    "Let's assemble the matrix of the mixed method for Poisson equation. We can do it in two ways. \n",
    "\n",
    "\n",
    "The first way is to make a \"big\" bilinear form in the product space. Note that trial and test functions in `RW` have two components."
   ]
  },
  {
   "cell_type": "code",
   "execution_count": 18,
   "metadata": {},
   "outputs": [],
   "source": [
    "q, u = RW.TrialFunction() \n",
    "r, v = RW.TestFunction()\n",
    "\n",
    "B = ng.BilinearForm(RW)\n",
    "B += (q*r - u*div(r) - div(q)*v) * dx\n",
    "B.Assemble();"
   ]
  },
  {
   "cell_type": "markdown",
   "metadata": {},
   "source": [
    "The second way is to make individual blocks and put them together. The blocks use different trial and test space, so notice the differences in  the syntax."
   ]
  },
  {
   "cell_type": "code",
   "execution_count": 19,
   "metadata": {},
   "outputs": [],
   "source": [
    "q, r = R.TnT()\n",
    "u, v = W.TnT()\n",
    "\n",
    "b = ng.BilinearForm(trialspace=R, testspace=W)\n",
    "b += -div(q)*v * dx\n",
    "\n",
    "a = ng.BilinearForm(R)\n",
    "a += q*r * dx\n",
    "\n",
    "b.Assemble(); a.Assemble();"
   ]
  },
  {
   "cell_type": "markdown",
   "metadata": {},
   "source": [
    "Here is how you place these matrices into the proper place in a block partitioning:"
   ]
  },
  {
   "cell_type": "code",
   "execution_count": 20,
   "metadata": {},
   "outputs": [],
   "source": [
    "BB = ng.BlockMatrix([[a.mat, b.mat.T], [b.mat, None]])"
   ]
  },
  {
   "cell_type": "markdown",
   "metadata": {},
   "source": [
    "## Cross checking matrix vector products\n",
    "\n",
    "As an exercise in becoming familiar with block matrices and component grid functions in NGSolve, let's compute the product of the assembled matrix `B.mat` and the block matrix `BB`  with the same vector and verify that we get the same result. We begin by setting some grid functions to get a vector on which the matrices can be applied. "
   ]
  },
  {
   "cell_type": "code",
   "execution_count": 21,
   "metadata": {},
   "outputs": [],
   "source": [
    "qh = GridFunction(R)\n",
    "uh = GridFunction(W)\n",
    "qh.Set((x, y))\n",
    "uh.Set(x*y)"
   ]
  },
  {
   "cell_type": "markdown",
   "metadata": {},
   "source": [
    "First we compute product using block matrix vector product facility. The above two grid functions can be made into a block vector as follows."
   ]
  },
  {
   "cell_type": "code",
   "execution_count": 22,
   "metadata": {},
   "outputs": [],
   "source": [
    "quvec = ng.BlockVector([qh.vec, uh.vec])"
   ]
  },
  {
   "cell_type": "code",
   "execution_count": 23,
   "metadata": {},
   "outputs": [],
   "source": [
    "# Allocate space to store the matrix-vector product\n",
    "BBqh = qh.vec.CreateVector()\n",
    "BBuh = uh.vec.CreateVector()\n",
    "BBquh = ng.BlockVector([BBqh, BBuh])\n",
    "\n",
    "# Compute the product as a BlockVector\n",
    "BBquh.data = BB * quvec"
   ]
  },
  {
   "cell_type": "markdown",
   "metadata": {},
   "source": [
    "Next, we compute the product using the single assembled matrix `B.mat`. This matrix must act on grid functions of the product space `RW`, so we make one called `quh` below into which we  copy over the contents of the prior `qh` and `uh`."
   ]
  },
  {
   "cell_type": "code",
   "execution_count": 24,
   "metadata": {},
   "outputs": [],
   "source": [
    "# Allocate space for the result in a product FESpace\n",
    "quh = GridFunction(RW)\n",
    "quh.components[0].vec.data = qh.vec\n",
    "quh.components[1].vec.data = uh.vec\n",
    "\n",
    "# Matrix-vector multiply in a product FESpace GridFunction\n",
    "Bquh = GridFunction(RW)\n",
    "Bquh.vec.data = B.mat * quh.vec"
   ]
  },
  {
   "cell_type": "markdown",
   "metadata": {},
   "source": [
    "Now we have the values of the matrix-vector products in a block vector `BBqu` and a vector of a grid function of a product finite element space. To compare their values, we can certainly print out the whole vector. We can also use the norm facility to quickly check that the  difference between the two vectors is zero."
   ]
  },
  {
   "cell_type": "code",
   "execution_count": 25,
   "metadata": {
    "scrolled": true
   },
   "outputs": [
    {
     "data": {
      "text/plain": [
       "5.971115260002713e-15"
      ]
     },
     "execution_count": 25,
     "metadata": {},
     "output_type": "execute_result"
    }
   ],
   "source": [
    "d = BBqh.CreateVector()\n",
    "d.data = BBqh - Bquh.components[0].vec\n",
    "d.Norm()"
   ]
  },
  {
   "cell_type": "code",
   "execution_count": 26,
   "metadata": {},
   "outputs": [
    {
     "data": {
      "text/plain": [
       "5.971115260002713e-15"
      ]
     },
     "execution_count": 26,
     "metadata": {},
     "output_type": "execute_result"
    }
   ],
   "source": [
    "d.Norm()"
   ]
  },
  {
   "cell_type": "code",
   "execution_count": 27,
   "metadata": {},
   "outputs": [
    {
     "data": {
      "text/plain": [
       "1.6675881526026532e-15"
      ]
     },
     "execution_count": 27,
     "metadata": {},
     "output_type": "execute_result"
    }
   ],
   "source": [
    "d = BBuh.CreateVector()\n",
    "d.data = BBuh - Bquh.components[1].vec\n",
    "d.Norm()"
   ]
  },
  {
   "cell_type": "markdown",
   "metadata": {},
   "source": [
    "It's not a good idea to directly perform vector operations between a `BlockVector` and a regular NGSolve vector (in most cases NGSolve will raise an exception and will not allow you to do so). So if you work with block vectors, make sure you can access its component vectors to perform operations like the above.  "
   ]
  },
  {
   "cell_type": "markdown",
   "metadata": {},
   "source": [
    "## Transferring to Scipy"
   ]
  },
  {
   "cell_type": "markdown",
   "metadata": {},
   "source": [
    "Sparse matrices can be taken from NGSolve and given to Scipy. The blocks `a.mat` and `b.mat` that we made above can be made into scipy sparse matrix objects using the COO (coordinate) format."
   ]
  },
  {
   "cell_type": "code",
   "execution_count": 28,
   "metadata": {},
   "outputs": [],
   "source": [
    "from scipy.sparse import coo_matrix\n",
    "import numpy as np\n",
    "from scipy.linalg import svd\n",
    "\n",
    "i, j, v = a.mat.COO()\n",
    "A = coo_matrix((v, (i,j)))\n",
    "\n",
    "i, j, v = b.mat.COO()\n",
    "B = coo_matrix((v, (i,j)))"
   ]
  },
  {
   "cell_type": "markdown",
   "metadata": {},
   "source": [
    "It is easy to perform matrix operations within numpy or scipy, e.g., computing the Schur complement."
   ]
  },
  {
   "cell_type": "code",
   "execution_count": 29,
   "metadata": {},
   "outputs": [],
   "source": [
    "Ainv = np.linalg.inv(A.toarray())\n",
    "C = B @ Ainv @ B.T"
   ]
  },
  {
   "cell_type": "markdown",
   "metadata": {},
   "source": [
    "Recall that invertibility of the Schur complement guarantees that the entire system is invertible (since $A$ is invertible in this mixed method). We compute the singular values and verify that all of them are positive. (For a small problem like this, computing the SVD is not expensive.)"
   ]
  },
  {
   "cell_type": "code",
   "execution_count": 30,
   "metadata": {},
   "outputs": [
    {
     "data": {
      "text/plain": [
       "array([19.17215044, 18.20769681, 16.63066275, 16.19035552, 16.11365663,\n",
       "       14.05393028, 13.78572502, 13.73565594, 12.553198  , 11.30239384,\n",
       "       11.28320014, 10.91718695, 10.38573022,  7.32527422,  5.87721911,\n",
       "        5.55235478,  5.06084957,  4.66526777,  3.75122339,  3.55823102,\n",
       "        3.42653547,  2.19991415,  2.05785557,  0.85442697])"
      ]
     },
     "execution_count": 30,
     "metadata": {},
     "output_type": "execute_result"
    }
   ],
   "source": [
    "u, s, vt = svd(C)\n",
    "s"
   ]
  },
  {
   "cell_type": "markdown",
   "metadata": {},
   "source": [
    "## Unstable pair"
   ]
  },
  {
   "cell_type": "markdown",
   "metadata": {},
   "source": [
    "Recall that if the null space of $B^t$ is trivial, then \n",
    "$$\n",
    "\\begin{bmatrix}\n",
    "A & B^t \\\\\n",
    "B & 0 \n",
    "\\end{bmatrix}\n",
    "$$\n",
    "is invertible. If you use the Lagrange finite element space for fluxes and the primal variable, then you end up with a $B^t$ which has a nontrivial null space. "
   ]
  },
  {
   "cell_type": "code",
   "execution_count": 31,
   "metadata": {},
   "outputs": [],
   "source": [
    "from scipy.linalg import null_space"
   ]
  },
  {
   "cell_type": "code",
   "execution_count": 32,
   "metadata": {},
   "outputs": [],
   "source": [
    "R = ng.VectorH1(mesh, order=1)\n",
    "W = ng.H1(mesh, order=1)\n",
    "\n",
    "q, r = R.TnT()\n",
    "u, v = W.TnT()\n",
    "b = ng.BilinearForm(trialspace=R, testspace=W)\n",
    "b += -div(q)*v * dx\n",
    "b.Assemble(); \n",
    "\n",
    "i, j, v = b.mat.COO()\n",
    "B = coo_matrix((v, (i,j)))"
   ]
  },
  {
   "cell_type": "markdown",
   "metadata": {},
   "source": [
    "We compute the null space using scipy."
   ]
  },
  {
   "cell_type": "code",
   "execution_count": 33,
   "metadata": {},
   "outputs": [],
   "source": [
    "Z = null_space(B.toarray().T)"
   ]
  },
  {
   "cell_type": "markdown",
   "metadata": {},
   "source": [
    "The numpy array `Z` can be copied to a vector of coefficients of an NGSolve grid function. Then we can use NGSolve to visualize the kernel  function."
   ]
  },
  {
   "cell_type": "code",
   "execution_count": 34,
   "metadata": {},
   "outputs": [
    {
     "ename": "TypeError",
     "evalue": "(): incompatible function arguments. The following argument types are supported:\n    1. (arg0: ngsolve.la.BaseVector, arg1: ngla::DynamicVectorExpression) -> None\n\nInvoked with: basevector, array([-0.07363282, -0.07363282, -0.07363282, -0.07363282, -0.07363282,\n       -0.07363282,  0.31068214, -0.23704932,  0.31068214,  0.31068214,\n        0.31068214, -0.23704932,  0.31068214, -0.23704932,  0.31068214,\n        0.31068214, -0.07363282, -0.23704932, -0.07363282, -0.23704932])",
     "output_type": "error",
     "traceback": [
      "\u001b[1;31m---------------------------------------------------------------------------\u001b[0m",
      "\u001b[1;31mTypeError\u001b[0m                                 Traceback (most recent call last)",
      "\u001b[1;32m<ipython-input-34-633fec8769a6>\u001b[0m in \u001b[0;36m<module>\u001b[1;34m\u001b[0m\n\u001b[0;32m      1\u001b[0m \u001b[0mz\u001b[0m \u001b[1;33m=\u001b[0m \u001b[0mGridFunction\u001b[0m\u001b[1;33m(\u001b[0m\u001b[0mW\u001b[0m\u001b[1;33m,\u001b[0m \u001b[1;34m'nullZ'\u001b[0m\u001b[1;33m)\u001b[0m\u001b[1;33m\u001b[0m\u001b[0m\n\u001b[1;32m----> 2\u001b[1;33m \u001b[0mz\u001b[0m\u001b[1;33m.\u001b[0m\u001b[0mvec\u001b[0m\u001b[1;33m.\u001b[0m\u001b[0mdata\u001b[0m \u001b[1;33m=\u001b[0m \u001b[0mZ\u001b[0m\u001b[1;33m[\u001b[0m\u001b[1;33m:\u001b[0m\u001b[1;33m,\u001b[0m \u001b[1;36m1\u001b[0m\u001b[1;33m]\u001b[0m\u001b[1;33m\u001b[0m\u001b[0m\n\u001b[0m\u001b[0;32m      3\u001b[0m \u001b[0mDraw\u001b[0m\u001b[1;33m(\u001b[0m\u001b[0mz\u001b[0m\u001b[1;33m)\u001b[0m\u001b[1;33m\u001b[0m\u001b[0m\n",
      "\u001b[1;31mTypeError\u001b[0m: (): incompatible function arguments. The following argument types are supported:\n    1. (arg0: ngsolve.la.BaseVector, arg1: ngla::DynamicVectorExpression) -> None\n\nInvoked with: basevector, array([-0.07363282, -0.07363282, -0.07363282, -0.07363282, -0.07363282,\n       -0.07363282,  0.31068214, -0.23704932,  0.31068214,  0.31068214,\n        0.31068214, -0.23704932,  0.31068214, -0.23704932,  0.31068214,\n        0.31068214, -0.07363282, -0.23704932, -0.07363282, -0.23704932])"
     ]
    }
   ],
   "source": [
    "z = GridFunction(W, 'nullZ')\n",
    "z.vec.data = Z[:, 1]\n",
    "Draw(z)"
   ]
  },
  {
   "cell_type": "markdown",
   "metadata": {},
   "source": [
    "## Solve a problem"
   ]
  },
  {
   "cell_type": "markdown",
   "metadata": {},
   "source": [
    "Let us put $f=1$ on the left subdomain, $f=0$ elsewhere, and solve the Poisson equation in  mixed for on a finer mesh."
   ]
  },
  {
   "cell_type": "code",
   "execution_count": null,
   "metadata": {},
   "outputs": [],
   "source": [
    "mesh = ng.Mesh(geo.GenerateMesh(maxh=0.05))\n",
    "f = mesh.MaterialCF({'lftdom': 1, 'rgtdom': 0})"
   ]
  },
  {
   "cell_type": "code",
   "execution_count": null,
   "metadata": {},
   "outputs": [],
   "source": [
    "R = ng.HDiv(mesh, order=0, RT=True)\n",
    "W = ng.L2(mesh, order=0)"
   ]
  },
  {
   "cell_type": "code",
   "execution_count": null,
   "metadata": {},
   "outputs": [],
   "source": [
    "RW = ng.FESpace([R, W])\n",
    "(q, u), (r, v) = RW.TnT()\n",
    "B = ng.BilinearForm(RW)\n",
    "B += (q*r - u*div(r) - div(q)*v) * dx\n",
    "F = ng.LinearForm(f*v*dx)\n",
    "B.Assemble(); F.Assemble();"
   ]
  },
  {
   "cell_type": "code",
   "execution_count": null,
   "metadata": {},
   "outputs": [],
   "source": [
    "quh = GridFunction(RW, name='qu')\n",
    "quh.vec.data = B.mat.Inverse() * F.vec\n",
    "Draw(quh.components[1])\n",
    "# Draw(quh.components[0])"
   ]
  },
  {
   "cell_type": "markdown",
   "metadata": {},
   "source": [
    "Note how zero the solution approaches zero on the boundary even though none of the spaces used above imposed any essential boundary condition.\n",
    "\n",
    "\n",
    "The same solution can be obtained using the block matrix facilities."
   ]
  },
  {
   "cell_type": "code",
   "execution_count": null,
   "metadata": {},
   "outputs": [],
   "source": [
    "q, r = R.TnT()\n",
    "u, v = W.TnT()\n",
    "\n",
    "b = ng.BilinearForm(trialspace=R, testspace=W)\n",
    "b += -div(q)*v * dx\n",
    "a = ng.BilinearForm(R)\n",
    "a += q*r * dx\n",
    "fW = ng.LinearForm(f*v*dx)\n",
    "b.Assemble(); a.Assemble(); fW.Assemble();"
   ]
  },
  {
   "cell_type": "code",
   "execution_count": null,
   "metadata": {},
   "outputs": [],
   "source": [
    "BB = ng.BlockMatrix([[a.mat, b.mat.T], [b.mat, None]])"
   ]
  },
  {
   "cell_type": "code",
   "execution_count": null,
   "metadata": {},
   "outputs": [],
   "source": [
    "qh = GridFunction(R, name='q')\n",
    "uh = GridFunction(W, name='u')\n",
    "\n",
    "x = ng.BlockVector([qh.vec, uh.vec])\n",
    "zero = qh.vec.CreateVector()\n",
    "zero[:] = 0\n",
    "FF = ng.BlockVector([zero, fW.vec])"
   ]
  },
  {
   "cell_type": "code",
   "execution_count": null,
   "metadata": {
    "scrolled": false
   },
   "outputs": [],
   "source": [
    "ng.solvers.MinRes(mat=BB, rhs=FF, sol=x, maxsteps=500, printrates=False)\n",
    "Draw(uh)"
   ]
  }
 ],
 "metadata": {
  "kernelspec": {
   "display_name": "Python 3",
   "language": "python",
   "name": "python3"
  },
  "language_info": {
   "codemirror_mode": {
    "name": "ipython",
    "version": 3
   },
   "file_extension": ".py",
   "mimetype": "text/x-python",
   "name": "python",
   "nbconvert_exporter": "python",
   "pygments_lexer": "ipython3",
   "version": "3.7.0"
  }
 },
 "nbformat": 4,
 "nbformat_minor": 2
}
