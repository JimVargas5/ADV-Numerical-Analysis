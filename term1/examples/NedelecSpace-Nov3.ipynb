{
 "cells": [
  {
   "cell_type": "markdown",
   "metadata": {},
   "source": [
    "# The Nedelec space"
   ]
  },
  {
   "cell_type": "markdown",
   "metadata": {},
   "source": [
    "Let's get acquainted with the Nedelec space for treating boundary value problems set in H(curl)."
   ]
  },
  {
   "cell_type": "code",
   "execution_count": 1,
   "metadata": {},
   "outputs": [],
   "source": [
    "import netgen.gui\n",
    "import ngsolve as ng"
   ]
  },
  {
   "cell_type": "code",
   "execution_count": null,
   "metadata": {},
   "outputs": [],
   "source": [
    "from netgen.csg import CSGeometry, OrthoBrick, Cylinder, unit_cube, Pnt\n",
    "\n",
    "from ngsolve import x, y, z\n",
    "\n",
    "from ngsolve import Draw    \n",
    "from ngsolve.internal import viewoptions, visoptions"
   ]
  },
  {
   "cell_type": "markdown",
   "metadata": {},
   "source": [
    "## The lowest order Nedelec space"
   ]
  },
  {
   "cell_type": "code",
   "execution_count": null,
   "metadata": {},
   "outputs": [],
   "source": [
    "mesh = ng.Mesh(unit_cube.GenerateMesh(maxh=0.5))"
   ]
  },
  {
   "cell_type": "markdown",
   "metadata": {},
   "source": [
    "The lowest order Nedelec space can be generated in NGSolve by this:"
   ]
  },
  {
   "cell_type": "code",
   "execution_count": null,
   "metadata": {},
   "outputs": [],
   "source": [
    "N = ng.HCurl(mesh, order=0, type1=True)"
   ]
  },
  {
   "cell_type": "markdown",
   "metadata": {},
   "source": [
    "Note that the dimension of the space equals the number of mesh edges. "
   ]
  },
  {
   "cell_type": "code",
   "execution_count": null,
   "metadata": {},
   "outputs": [],
   "source": [
    "N.ndof"
   ]
  },
  {
   "cell_type": "code",
   "execution_count": null,
   "metadata": {},
   "outputs": [],
   "source": [
    "len(mesh.edges)"
   ]
  },
  {
   "cell_type": "markdown",
   "metadata": {},
   "source": [
    "## Nedelec shape functions\n",
    "\n",
    "The Nedelec space has one shape function for each edge. "
   ]
  },
  {
   "cell_type": "code",
   "execution_count": null,
   "metadata": {},
   "outputs": [],
   "source": [
    "shape = ng.GridFunction(N, name='shape')\n",
    "shape.vec[:] = 0\n",
    "shape.vec[4] = 1\n",
    "\n",
    "Draw(shape, mesh, 'shape', draw_surf=True)    "
   ]
  },
  {
   "cell_type": "markdown",
   "metadata": {},
   "source": [
    "Note the tangential continuity of shape functions.  Pay particular attention to the tangential components along each edge of a tetrahedron. \n",
    "\n",
    "Visualization notes:\n",
    "- In Netgen GUI, check the box `Draw Surface Vectors` in the `Visual` menu to see the vectors plotted. \n",
    "- In Netgen GUI,  you can go `Viewing Options` menu and check box `Show Edge-numbers` to see the edge numbering of the mesh when the `Mesh` tab is set for viewing the mesh."
   ]
  },
  {
   "cell_type": "markdown",
   "metadata": {},
   "source": [
    "## The interpolant"
   ]
  },
  {
   "cell_type": "markdown",
   "metadata": {},
   "source": [
    "The Nedelec interpolant generates tangentially continuous approximants. To illustrate this point, we shall now make a mesh composed of two subdomains `lft` and `rgt`. Then we will interpolate a discontinuous vector field into the Nedelec space. "
   ]
  },
  {
   "cell_type": "code",
   "execution_count": null,
   "metadata": {},
   "outputs": [],
   "source": [
    "box1 = OrthoBrick(Pnt(-1, 0, 0), Pnt(0, 1, 1)).mat('lft')\n",
    "box2 = OrthoBrick(Pnt(0, 0, 0), Pnt(1, 1, 1)).mat('rgt')\n",
    "\n",
    "geo = CSGeometry()\n",
    "geo.Add(box1)\n",
    "geo.Add(box2)\n",
    "mesh = ng.Mesh(geo.GenerateMesh(maxh=0.5))"
   ]
  },
  {
   "cell_type": "markdown",
   "metadata": {},
   "source": [
    "It's easy to create a discontinuous vector field by defining it piecewise on each subdomain. Below, we pick a function whose tangential component is continuous   across the subdomain interface (contained in the $x=0$ plane)."
   ]
  },
  {
   "cell_type": "code",
   "execution_count": null,
   "metadata": {},
   "outputs": [],
   "source": [
    "v = mesh.MaterialCF({'lft': (0,   -z, y),\n",
    "                     'rgt': (-y, x-z, y)})"
   ]
  },
  {
   "cell_type": "code",
   "execution_count": null,
   "metadata": {},
   "outputs": [],
   "source": [
    "viewoptions.clipping.enable=1\n",
    "viewoptions.clipping.nx = 0 \n",
    "viewoptions.clipping.ny = 0 \n",
    "viewoptions.clipping.nz = -1\n",
    "visoptions.clipsolution = 'vec'\n",
    "Draw(v, mesh, 'v', draw_surf=False)"
   ]
  },
  {
   "cell_type": "markdown",
   "metadata": {},
   "source": [
    "Note that the various viewing options can be listed using python's `dir`, e.g., `dir(viewoptions.clipping)`. You can also use the GUI to tune the viewing parameters."
   ]
  },
  {
   "cell_type": "code",
   "execution_count": null,
   "metadata": {},
   "outputs": [],
   "source": [
    "N = ng.HCurl(mesh, order=0, type1=True)\n",
    "vh = ng.GridFunction(N)\n",
    "vh.Set(v)  "
   ]
  },
  {
   "cell_type": "code",
   "execution_count": null,
   "metadata": {},
   "outputs": [],
   "source": [
    "ng.sqrt(ng.Integrate((vh-v)**2, mesh))  "
   ]
  },
  {
   "cell_type": "markdown",
   "metadata": {},
   "source": [
    "## Exercise: The 2D Nedelec space"
   ]
  },
  {
   "cell_type": "markdown",
   "metadata": {},
   "source": [
    "In class exercise: Open a new Jupyter notebook. Make a 2D mesh of the unit square and examine the shape functions of the 2D Nedelec space. See if you can find a relationship with the shape functions of the 2D Raviart-Thomas space. "
   ]
  }
 ],
 "metadata": {
  "kernelspec": {
   "display_name": "Python 3",
   "language": "python",
   "name": "python3"
  },
  "language_info": {
   "codemirror_mode": {
    "name": "ipython",
    "version": 3
   },
   "file_extension": ".py",
   "mimetype": "text/x-python",
   "name": "python",
   "nbconvert_exporter": "python",
   "pygments_lexer": "ipython3",
   "version": "3.7.0"
  }
 },
 "nbformat": 4,
 "nbformat_minor": 2
}
